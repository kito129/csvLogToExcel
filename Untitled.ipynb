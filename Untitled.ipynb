{
 "cells": [
  {
   "cell_type": "code",
   "execution_count": 1,
   "id": "15f2ef72-3f0b-463b-9d15-62c7a90b711f",
   "metadata": {},
   "outputs": [],
   "source": [
    "import os,csv\n",
    "path = \"./MarketReports/\"\n",
    "exportPath = \"./ExportReport/\""
   ]
  },
  {
   "cell_type": "code",
   "execution_count": 3,
   "id": "a532c930-10e8-4eba-a0ed-6437e781b7b1",
   "metadata": {},
   "outputs": [],
   "source": [
    "from datetime import datetime"
   ]
  },
  {
   "cell_type": "code",
   "execution_count": 146,
   "id": "2498fb7c-87de-4c90-bc34-50cb7a414bcd",
   "metadata": {},
   "outputs": [
    {
     "name": "stdout",
     "output_type": "stream",
     "text": [
      "0 0\n",
      "0 0\n",
      "0 0\n",
      "AD 40\n",
      "0 0\n",
      "0 0\n"
     ]
    }
   ],
   "source": [
    "for date in os.listdir(path):\n",
    "    datePath = os.path.abspath(os.path.join(path,date))\n",
    "    logsPath = os.path.join(datePath,'Logs')\n",
    "    matchedBetsPath = os.path.join(datePath,'MatchedBets')\n",
    "    profitAndLossPath = os.path.join(datePath,'ProfitAndLoss')\n",
    "    logsFiles = [];matchedBetsFiles = [];profitAndLossFiles = []\n",
    "    for logFile in os.listdir(logsPath):\n",
    "        if not logFile.startswith('Log'):\n",
    "            continue\n",
    "        file = logFile.split('_',1)[1]\n",
    "        if 'Market Closed' in file:\n",
    "            continue\n",
    "        logsFiles.append(os.path.join(logsPath,f'Log_{file}'))\n",
    "        matchedBetsFiles.append(os.path.join(matchedBetsPath,f'MatchedBetsReport_{file}'))\n",
    "        profitAndLossFiles.append(os.path.join(profitAndLossPath,f'ProfitLossReport_{file}'))\n",
    "    for logFile,matchedBetFile,profitAndLossFile in zip(logsFiles,matchedBetsFiles,profitAndLossFiles):\n",
    "        with open(logFile) as logger,open(matchedBetFile) as matcher,open(profitAndLossFile) as profiter:\n",
    "            mContent = matcher.read()\n",
    "            if len(mContent.splitlines())<2:\n",
    "                continue\n",
    "            content = logger.read()\n",
    "            marketName,marketDate = getField('marketName',content)\n",
    "            market = {}\n",
    "            market['runnerA'] = getField('runnerA',content)\n",
    "            market['runnerB'] = getField('runnerB',content)\n",
    "            market['aId'] = getField('aId',content)\n",
    "            market['bId'] = getField('bId',content)\n",
    "            market['aBsp'] = getField('aBsp',content)\n",
    "            market['bBsp'] = getField('bBsp',content)\n",
    "            market['volume'] = getField('volume',content)\n",
    "            market['profit'] = []\n",
    "            pReader = csv.reader(profiter.read().splitlines()[1:])\n",
    "            for row in pReader:\n",
    "                market['profit'].append(row[-2:])\n",
    "            totalPoints = content.count('totalStake =')\n",
    "            for points in range(totalPoints):\n",
    "                totalStake = getField('totalStake',content,points)\n",
    "                if totalStake == getField('totalStake',content,points+1):\n",
    "                    continue\n",
    "                gameContent = content.split(f'(Shared) for {market[\"runnerA\"]}: aPoints',points+1)[-1]\n",
    "                aPoint = getField('aPoints = point',content,points)\n",
    "                aServing = getField('aServing = serving',content,points)\n",
    "                aGame = getField(f'games',gameContent)\n",
    "                aSet = getField(f'sets',content,points+1 if points else points)\n",
    "                bPoint = getField('bPoints = point',content,points)\n",
    "                bGame = getField(f'games',gameContent,1)\n",
    "                bSet = getField(f'sets',content,points+2 if points else points+1)\n",
    "                bServing = getField('bServing = serving',content,points)\n",
    "                serv = ['A','B'][0 if int(aServing) else 1]\n",
    "                sets = [['','']]*5\n",
    "                if aSet=='1' and bSet=='1':\n",
    "                    sets[0]=['1','1']\n",
    "                    sets[1] = ['1','1']\n",
    "                    sets[2] = [aGame,bGame]\n",
    "                elif aSet=='1' and bSet=='0':\n",
    "                    sets[0] = ['1','0']\n",
    "                    sets[1] = [aGame,bGame]\n",
    "                elif aSet=='0' and bSet=='1':\n",
    "                    sets[0] = ['0','1']\n",
    "                    sets[1] = [aGame,bGame]\n",
    "                else:\n",
    "                    sets[0] = [aGame,bGame]\n",
    "                aPoint = 'AD' if aPoint=='99' else aPoint\n",
    "                bPoint = 'AD' if bPoint=='99' else bPoint\n",
    "                print(aPoint,bPoint)\n",
    "#                 print(aPoint,aGame,aSet,serv)\n",
    "#                 print(bPoint,bGame,bSet,serv)\n",
    "            mList = sorted([m for m in csv.reader(mContent.splitlines()[1:])],key=lambda x: x[0].split(' ')[1])\n",
    "            market['stacks'] = {}\n",
    "            for row in mList:\n",
    "                date = row[0].split(' ')[-1]\n",
    "                flag = row[1][0]\n",
    "                runner = ['A','B'][row[2][0].strip()==market['runnerB']]\n",
    "                odds = row[3]\n",
    "                stack = row[4]\n",
    "                if market['stacks'].get(date):\n",
    "                    market['stacks'][date][-1]+=float(stack)\n",
    "                    continue\n",
    "                market['stacks'][date] = [date,flag,runner,odds,float(stack)]\n",
    "                \n",
    "        break\n",
    "    break"
   ]
  },
  {
   "cell_type": "code",
   "execution_count": 147,
   "id": "546f7d91-0fbb-4ac1-82d1-580c99f2e14f",
   "metadata": {},
   "outputs": [
    {
     "data": {
      "text/plain": [
       "[['0', '1'], ['2', '1'], ['', ''], ['', ''], ['', '']]"
      ]
     },
     "execution_count": 147,
     "metadata": {},
     "output_type": "execute_result"
    }
   ],
   "source": [
    "sets"
   ]
  },
  {
   "cell_type": "code",
   "execution_count": 102,
   "id": "26696efb-3a50-4911-a2f5-bff67b552403",
   "metadata": {},
   "outputs": [
    {
     "name": "stdout",
     "output_type": "stream",
     "text": [
      "2/10/2022 14:21:57: [G_Auto 2] :  Store Text Value (Shared) for Ruben Bemelmans: info = marketName: Bemelmans v Halys - Match Odds; runnerA: Ruben Bemelmans; runnerB: Quentin Halys \n",
      "2/10/2022 14:21:57: [G_Auto 2] :  Store Value (Shared) for market: aId = 2831873\n",
      "2/10/2022 14:21:57: [G_Auto 2] :  Store Value (Shared) for market: bId = 7287690\n",
      "2/10/2022 14:35:43:  Guardian has detected that the market is suspended\n",
      "2/10/2022 14:35:47:  Guardian has detected that the market is in-play\n",
      "2/10/2022 14:35:50: [G_Auto 2] :  Store Text Value (Shared) for market: inplayInfo = aBsp: 2.96; bBsp: 1.47; volume: 397.6 \n",
      "2/10/2022 14:35:50: [G_Auto 2] :  Store Text Value (Shared) for market: inplayInfo = aBsp: 2.96; bBsp: 1.47; volume: 397.6 \n",
      "2/10/2022 14:35:50:  Guardian has detected that the market is now unsuspended\n",
      "2/10/2022 15:30:18:  â‚¬ 10.87 Lay bet placed on Ruben Bemelmans at 1.69. [Liability staking]. Fully matched at 1.69.  Ref: 258211425647\n",
      "2/10/2022 15:30:18: [G_Auto 2] :  Store Text Value (Shared) for Ruben Bemelmans: aPoints = point: 0; games: 6; sets: 0 \n",
      "2/10/2022 15:30:18: [G_Auto 2] :  Store Text Value (Shared) for Ruben Bemelmans: aServing = serving:0\n",
      "2/10/2022 15:30:18: [G_Auto 2] :  Store Text Value (Shared) for Quentin Halys: bPoints = point: 0; games: 6; sets: 0 \n",
      "2/10/2022 15:30:18: [G_Auto 2] :  Store Text Value (Shared) for Quentin Halys: bServing = serving:2\n",
      "2/10/2022 15:30:18: [G_Auto 2] :  Store Value (Shared) for market: price = 1.69\n",
      "2/10/2022 15:30:18: [G_Auto 2] :  Store Value (Shared) for market: totalBack = 0\n",
      "2/10/2022 15:30:18: [G_Auto 2] :  Store Value (Shared) for market: totalLay = 10.87\n",
      "2/10/2022 15:30:18: [G_Auto 2] :  Store Value (Shared) for market: stake = 10.87\n",
      "2/10/2022 15:30:18: [G_Auto 2] :  Store Value (Shared) for market: totalStake = 10.87\n",
      "2/10/2022 15:30:18: [G_Auto 2] :  Store Value (Shared) for market: pl = -0.06\n",
      "2/10/2022 15:30:18: [G_Auto 2] :  Store Value (Shared) for market: currentOddsA = 1.69\n",
      "2/10/2022 15:30:18: [G_Auto 2] :  Store Value (Shared) for market: currentOddsB = 2.44\n",
      "2/10/2022 15:31:09:  â‚¬ 13.89 Lay bet placed on Ruben Bemelmans at 1.54. [Liability staking]. Entirely unmatched when it initially reached the market.   Ref: 258211505432\n",
      "2/10/2022 15:31:10: [G_Auto 2] :  Store Text Value (Shared) for Ruben Bemelmans: aPoints = point: 0; games: 6; sets: 0 \n",
      "2/10/2022 15:31:10: [G_Auto 2] :  Store Text Value (Shared) for Ruben Bemelmans: aServing = serving:0\n",
      "2/10/2022 15:31:10: [G_Auto 2] :  Store Text Value (Shared) for Quentin Halys: bPoints = point: 0; games: 6; sets: 0 \n",
      "2/10/2022 15:31:10: [G_Auto 2] :  Store Text Value (Shared) for Quentin Halys: bServing = serving:2\n",
      "2/10/2022 15:31:10: [G_Auto 2] :  Store Value (Shared) for market: price = 1.54\n",
      "2/10/2022 15:31:10: [G_Auto 2] :  Store Value (Shared) for market: totalBack = 0\n",
      "2/10/2022 15:31:10: [G_Auto 2] :  Store Value (Shared) for market: totalLay = 12.54\n",
      "2/10/2022 15:31:10: [G_Auto 2] :  Store Value (Shared) for market: stake = 1.67\n",
      "2/10/2022 15:31:10: [G_Auto 2] :  Store Value (Shared) for market: totalStake = 12.54\n",
      "2/10/2022 15:31:10: [G_Auto 2] :  Store Value (Shared) for market: pl = -1.06\n",
      "2/10/2022 15:31:10: [G_Auto 2] :  Store Value (Shared) for market: currentOddsA = 1.54\n",
      "2/10/2022 15:31:10: [G_Auto 2] :  Store Value (Shared) for market: currentOddsB = 2.82\n",
      "2/10/2022 15:31:22:  Bet moved on ladder - Modify bet 258211505432 from 12.11 @ 1.54  to  12.11 @ 1.55  New Ref: 258211523990\n",
      "2/10/2022 15:31:22: [G_Auto 2] :  Store Text Value (Shared) for Ruben Bemelmans: aPoints = point: 0; games: 6; sets: 0 \n",
      "2/10/2022 15:31:22: [G_Auto 2] :  Store Text Value (Shared) for Ruben Bemelmans: aServing = serving:0\n",
      "2/10/2022 15:31:22: [G_Auto 2] :  Store Text Value (Shared) for Quentin Halys: bPoints = point: 0; games: 6; sets: 0 \n",
      "2/10/2022 15:31:22: [G_Auto 2] :  Store Text Value (Shared) for Quentin Halys: bServing = serving:2\n",
      "2/10/2022 15:31:22: [G_Auto 2] :  Store Value (Shared) for market: price = 1.55\n",
      "2/10/2022 15:31:22: [G_Auto 2] :  Store Value (Shared) for market: totalBack = 0\n",
      "2/10/2022 15:31:22: [G_Auto 2] :  Store Value (Shared) for market: totalLay = 24.76\n",
      "2/10/2022 15:31:22: [G_Auto 2] :  Store Value (Shared) for market: stake = 12.11\n",
      "2/10/2022 15:31:22: [G_Auto 2] :  Store Value (Shared) for market: totalStake = 24.76\n",
      "2/10/2022 15:31:22: [G_Auto 2] :  Store Value (Shared) for market: pl = -1.14\n",
      "2/10/2022 15:31:22: [G_Auto 2] :  Store Value (Shared) for market: currentOddsA = 1.55\n",
      "2/10/2022 15:31:22: [G_Auto 2] :  Store Value (Shared) for market: currentOddsB = 2.82\n",
      "2/10/2022 15:31:27: [G_Auto 2] :  Store Text Value (Shared) for Ruben Bemelmans: aPoints = point: 0; games: 6; sets: 0 \n",
      "2/10/2022 15:31:27: [G_Auto 2] :  Store Text Value (Shared) for Ruben Bemelmans: aServing = serving:0\n",
      "2/10/2022 15:31:27: [G_Auto 2] :  Store Text Value (Shared) for Quentin Halys: bPoints = point: 0; games: 6; sets: 0 \n",
      "2/10/2022 15:31:27: [G_Auto 2] :  Store Text Value (Shared) for Quentin Halys: bServing = serving:2\n",
      "2/10/2022 15:31:27: [G_Auto 2] :  Store Value (Shared) for market: price = 1.55\n",
      "2/10/2022 15:31:27: [G_Auto 2] :  Store Value (Shared) for market: totalBack = 0\n",
      "2/10/2022 15:31:27: [G_Auto 2] :  Store Value (Shared) for market: totalLay = 24.76\n",
      "2/10/2022 15:31:27: [G_Auto 2] :  Store Value (Shared) for market: stake = 12.11\n",
      "2/10/2022 15:31:27: [G_Auto 2] :  Store Value (Shared) for market: totalStake = 24.76\n",
      "2/10/2022 15:31:27: [G_Auto 2] :  Store Value (Shared) for market: pl = -1.31\n",
      "2/10/2022 15:31:27: [G_Auto 2] :  Store Value (Shared) for market: currentOddsA = 1.55\n",
      "2/10/2022 15:31:27: [G_Auto 2] :  Store Value (Shared) for market: currentOddsB = 2.82\n",
      "2/10/2022 15:43:04:  â‚¬ 22.06 Lay bet placed on Ruben Bemelmans at 1.34. [Liability staking]. Fully matched at 1.34.  Ref: 258212572388\n",
      "2/10/2022 15:43:04: [G_Auto 2] :  Store Text Value (Shared) for Ruben Bemelmans: aPoints = point: 99; games: 1; sets: 1 \n",
      "2/10/2022 15:43:04: [G_Auto 2] :  Store Text Value (Shared) for Ruben Bemelmans: aServing = serving:0\n",
      "2/10/2022 15:43:04: [G_Auto 2] :  Store Text Value (Shared) for Quentin Halys: bPoints = point: 40; games: 0; sets: 0 \n",
      "2/10/2022 15:43:04: [G_Auto 2] :  Store Text Value (Shared) for Quentin Halys: bServing = serving:2\n",
      "2/10/2022 15:43:04: [G_Auto 2] :  Store Value (Shared) for market: price = 1.34\n",
      "2/10/2022 15:43:04: [G_Auto 2] :  Store Value (Shared) for market: totalBack = 0\n",
      "2/10/2022 15:43:04: [G_Auto 2] :  Store Value (Shared) for market: totalLay = 46.82\n",
      "2/10/2022 15:43:04: [G_Auto 2] :  Store Value (Shared) for market: stake = 22.06\n",
      "2/10/2022 15:43:04: [G_Auto 2] :  Store Value (Shared) for market: totalStake = 46.82\n",
      "2/10/2022 15:43:04: [G_Auto 2] :  Store Value (Shared) for market: pl = -5.79\n",
      "2/10/2022 15:43:04: [G_Auto 2] :  Store Value (Shared) for market: currentOddsA = 1.34\n",
      "2/10/2022 15:43:04: [G_Auto 2] :  Store Value (Shared) for market: currentOddsB = 4.1\n",
      "2/10/2022 15:44:50:  â‚¬ 13.16 Lay bet placed on Ruben Bemelmans at 1.57. [Liability staking]. Entirely unmatched when it initially reached the market.   Ref: 258212721912\n",
      "2/10/2022 15:44:51: [G_Auto 2] :  Store Text Value (Shared) for Ruben Bemelmans: aPoints = point: 0; games: 1; sets: 1 \n",
      "2/10/2022 15:44:51: [G_Auto 2] :  Store Text Value (Shared) for Ruben Bemelmans: aServing = serving:1\n",
      "2/10/2022 15:44:51: [G_Auto 2] :  Store Text Value (Shared) for Quentin Halys: bPoints = point: 0; games: 1; sets: 0 \n",
      "2/10/2022 15:44:51: [G_Auto 2] :  Store Text Value (Shared) for Quentin Halys: bServing = serving:0\n",
      "2/10/2022 15:44:51: [G_Auto 2] :  Store Value (Shared) for market: price = 1.57\n",
      "2/10/2022 15:44:51: [G_Auto 2] :  Store Value (Shared) for market: totalBack = 0\n",
      "2/10/2022 15:44:51: [G_Auto 2] :  Store Value (Shared) for market: totalLay = 59.98\n",
      "2/10/2022 15:44:51: [G_Auto 2] :  Store Value (Shared) for market: stake = 13.16\n",
      "2/10/2022 15:44:51: [G_Auto 2] :  Store Value (Shared) for market: totalStake = 59.98\n",
      "2/10/2022 15:44:51: [G_Auto 2] :  Store Value (Shared) for market: pl = 2.18\n",
      "2/10/2022 15:44:51: [G_Auto 2] :  Store Value (Shared) for market: currentOddsA = 1.56\n",
      "2/10/2022 15:44:51: [G_Auto 2] :  Store Value (Shared) for market: currentOddsB = 2.74\n",
      "2/10/2022 15:47:34:  Placed closure bet on Ruben Bemelmans by Backing 61.71 at 1.46\n",
      "2/10/2022 15:47:35: [G_Auto 2] :  Store Text Value (Shared) for Ruben Bemelmans: aPoints = point: 0; games: 2; sets: 1 \n",
      "2/10/2022 15:47:35: [G_Auto 2] :  Store Text Value (Shared) for Ruben Bemelmans: aServing = serving:0\n",
      "2/10/2022 15:47:35: [G_Auto 2] :  Store Text Value (Shared) for Quentin Halys: bPoints = point: 0; games: 1; sets: 0 \n",
      "2/10/2022 15:47:35: [G_Auto 2] :  Store Text Value (Shared) for Quentin Halys: bServing = serving:2\n",
      "2/10/2022 15:47:35: [G_Auto 2] :  Store Value (Shared) for market: price = 1.46\n",
      "2/10/2022 15:47:35: [G_Auto 2] :  Store Value (Shared) for market: totalBack = 61.71\n",
      "2/10/2022 15:47:35: [G_Auto 2] :  Store Value (Shared) for market: totalLay = 59.98\n",
      "2/10/2022 15:47:35: [G_Auto 2] :  Store Value (Shared) for market: stake = 61.71\n",
      "2/10/2022 15:47:35: [G_Auto 2] :  Store Value (Shared) for market: totalStake = 121.69\n",
      "2/10/2022 15:47:35: [G_Auto 2] :  Store Value (Shared) for market: pl = -1.74\n",
      "2/10/2022 15:47:35: [G_Auto 2] :  Store Value (Shared) for market: currentOddsA = 1.46\n",
      "2/10/2022 15:47:35: [G_Auto 2] :  Store Value (Shared) for market: currentOddsB = 3.15\n",
      "2/10/2022 16:53:35:  Guardian has detected that the market is suspended\n",
      "\n"
     ]
    }
   ],
   "source": [
    "print(content)"
   ]
  },
  {
   "cell_type": "code",
   "execution_count": 107,
   "id": "d206e491-db21-4d13-9514-6f8ed00b23c0",
   "metadata": {},
   "outputs": [
    {
     "data": {
      "text/plain": [
       "'1.47'"
      ]
     },
     "execution_count": 107,
     "metadata": {},
     "output_type": "execute_result"
    }
   ],
   "source": [
    "def getField(field,content,index=0):\n",
    "    try:\n",
    "        try:\n",
    "            line = content.split(f'{field}:',index+1)\n",
    "            value = line[index+1].split(';')[0].split(' - ')[0].split('\\n')[0].strip()\n",
    "            if 'marketName' == field:\n",
    "                dateString = line[index].split('\\n')[-1].split(' ')[0]\n",
    "                return value,dateString\n",
    "            else:\n",
    "                return value\n",
    "        except:\n",
    "            return content.split(f'{field} = ',index+1)[index+1].split('\\n')[0].strip()\n",
    "    except:\n",
    "        return None\n",
    "getField('bBsp',content)"
   ]
  },
  {
   "cell_type": "code",
   "execution_count": 28,
   "id": "c9ca2afe-5ec9-43e5-b639-af3b7fced5ad",
   "metadata": {},
   "outputs": [
    {
     "data": {
      "text/plain": [
       "['1', '2', '2_3_4']"
      ]
     },
     "execution_count": 28,
     "metadata": {},
     "output_type": "execute_result"
    }
   ],
   "source": []
  }
 ],
 "metadata": {
  "kernelspec": {
   "display_name": "Python 3 (ipykernel)",
   "language": "python",
   "name": "python3"
  },
  "language_info": {
   "codemirror_mode": {
    "name": "ipython",
    "version": 3
   },
   "file_extension": ".py",
   "mimetype": "text/x-python",
   "name": "python",
   "nbconvert_exporter": "python",
   "pygments_lexer": "ipython3",
   "version": "3.9.7"
  }
 },
 "nbformat": 4,
 "nbformat_minor": 5
}
