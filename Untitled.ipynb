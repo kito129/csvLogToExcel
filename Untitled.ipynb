{
 "cells": [
  {
   "cell_type": "code",
   "execution_count": 1,
   "id": "15f2ef72-3f0b-463b-9d15-62c7a90b711f",
   "metadata": {},
   "outputs": [],
   "source": [
    "import os,csv\n",
    "path = \"./MarketReports/\"\n",
    "exportPath = \"./ExportReport/\""
   ]
  },
  {
   "cell_type": "code",
   "execution_count": 3,
   "id": "a532c930-10e8-4eba-a0ed-6437e781b7b1",
   "metadata": {},
   "outputs": [],
   "source": [
    "from datetime import datetime\n",
    "from itertools import zip_longest\n"
   ]
  },
  {
   "cell_type": "code",
   "execution_count": 207,
   "id": "2498fb7c-87de-4c90-bc34-50cb7a414bcd",
   "metadata": {},
   "outputs": [],
   "source": [
    "for date in os.listdir(path):\n",
    "    datePath = os.path.abspath(os.path.join(path,date))\n",
    "    logsPath = os.path.join(datePath,'Logs')\n",
    "    matchedBetsPath = os.path.join(datePath,'MatchedBets')\n",
    "    profitAndLossPath = os.path.join(datePath,'ProfitAndLoss')\n",
    "    logsFiles = [];matchedBetsFiles = [];profitAndLossFiles = []\n",
    "    for logFile in os.listdir(logsPath):\n",
    "        if not logFile.startswith('Log'):\n",
    "            continue\n",
    "        file = logFile.split('_',1)[1]\n",
    "        if 'Market Closed' in file:\n",
    "            continue\n",
    "        logsFiles.append(os.path.join(logsPath,f'Log_{file}'))\n",
    "        matchedBetsFiles.append(os.path.join(matchedBetsPath,f'MatchedBetsReport_{file}'))\n",
    "        profitAndLossFiles.append(os.path.join(profitAndLossPath,f'ProfitLossReport_{file}'))\n",
    "    for logFile,matchedBetFile,profitAndLossFile in zip(logsFiles,matchedBetsFiles,profitAndLossFiles):\n",
    "        with open(logFile) as logger,open(matchedBetFile) as matcher,open(profitAndLossFile) as profiter:\n",
    "            mContent = matcher.read()\n",
    "            if len(mContent.splitlines())<2:\n",
    "                continue\n",
    "            content = logger.read()\n",
    "            marketName,marketDate = getField('marketName',content)\n",
    "            market = {}\n",
    "            market['runnerA'] = getField('runnerA',content)\n",
    "            market['runnerB'] = getField('runnerB',content)\n",
    "            market['aId'] = getField('aId',content)\n",
    "            market['bId'] = getField('bId',content)\n",
    "            market['aBsp'] = getField('aBsp',content)\n",
    "            market['bBsp'] = getField('bBsp',content)\n",
    "            market['volume'] = getField('volume',content)\n",
    "            market['profit'] = []\n",
    "            pReader = csv.reader(profiter.read().splitlines()[1:])\n",
    "            for row in pReader:\n",
    "                market['profit'].append(row[-2:])\n",
    "            totalPoints = content.count('totalStake =')\n",
    "            market['sets'] = []\n",
    "            for points in range(totalPoints):\n",
    "                totalStake = getField('totalStake',content,points)\n",
    "                if totalStake == getField('totalStake',content,points+1):\n",
    "                    continue\n",
    "                gameContent = content.split(f'(Shared) for {market[\"runnerA\"]}: aPoints',points+1)[-1]\n",
    "                aPoint = getField('aPoints = point',content,points)\n",
    "                aServing = getField('aServing = serving',content,points)\n",
    "                aGame = getField(f'games',gameContent)\n",
    "                aSet = getField(f'sets',content,points+1 if points else points)\n",
    "                bPoint = getField('bPoints = point',content,points)\n",
    "                bGame = getField(f'games',gameContent,1)\n",
    "                bSet = getField(f'sets',content,points+2 if points else points+1)\n",
    "                bServing = getField('bServing = serving',content,points)\n",
    "                serv = ['A','B'][0 if int(aServing) else 1]\n",
    "                sets = [[None,None]]*5\n",
    "                if aSet=='1' and bSet=='1':\n",
    "                    sets[0]=['1','1']\n",
    "                    sets[1] = ['1','1']\n",
    "                    sets[2] = [aGame,bGame]\n",
    "                elif aSet=='1' and bSet=='0':\n",
    "                    sets[0] = ['1','0']\n",
    "                    sets[1] = [aGame,bGame]\n",
    "                elif aSet=='0' and bSet=='1':\n",
    "                    sets[0] = ['0','1']\n",
    "                    sets[1] = [aGame,bGame]\n",
    "                else:\n",
    "                    sets[0] = [aGame,bGame]\n",
    "                aPoint = 'AD' if aPoint=='99' else aPoint\n",
    "                bPoint = 'AD' if bPoint=='99' else bPoint\n",
    "                if aGame=='6' and bGame=='6':\n",
    "                    sets.append(['0','0'])\n",
    "                else:\n",
    "                    sets.append([aPoint,bPoint])\n",
    "                sets.append([serv])\n",
    "                market['sets'].append(sets)\n",
    "            mList = sorted([m for m in csv.reader(mContent.splitlines()[1:])],key=lambda x: x[0].split(' ')[1])\n",
    "            market['stacks'] = {}\n",
    "            i=0\n",
    "            for row in mList:\n",
    "                date = row[0].split(' ')[-1]\n",
    "                flag = row[1][0]\n",
    "                runner = ['A','B'][row[2][0].strip()==market['runnerB']]\n",
    "                odds = row[3]\n",
    "                stack = row[4]\n",
    "                if market['stacks'].get(date):\n",
    "                    market['stacks'][date][-1]+=float(stack)\n",
    "                    continue\n",
    "                i+=1\n",
    "                entry = None\n",
    "                if i==1:\n",
    "                    entry = 'OPEN'\n",
    "                market['stacks'][date] = [i,date,entry,flag,runner,odds,float(stack)]\n",
    "            for data in zip_longest([marketDate],[marketName,market['volume']],[market['runnerA'],market['aBsp'],market['aId']],[market['runnerB'],market['bBsp'],market['bId']],market['sets'],market['stacks'].values(),market['profit']):\n",
    "                setList = []\n",
    "                prList = data[6] or []\n",
    "                if data[4]:\n",
    "                    [setList.extend(set_) for set_ in data[4]]\n",
    "                setList = setList or [None]*13\n",
    "                stacks = data[5]\n",
    "                if not stacks:\n",
    "                    stacks = []\n",
    "                row = [data[0],None,data[1],None,None,None,None,data[2],data[3],None,None]+setList+stacks+[None]+prList\n",
    "                sheet.append(row)\n",
    "            sheet.append(([None]*26)+['Final'])\n"
   ]
  },
  {
   "cell_type": "code",
   "execution_count": 208,
   "id": "51c5c81f-35d9-4cab-89fc-1fc3e4527a0a",
   "metadata": {},
   "outputs": [
    {
     "data": {
      "text/plain": [
       "13"
      ]
     },
     "execution_count": 208,
     "metadata": {},
     "output_type": "execute_result"
    }
   ],
   "source": [
    "len(setList)"
   ]
  },
  {
   "cell_type": "code",
   "execution_count": 198,
   "id": "546f7d91-0fbb-4ac1-82d1-580c99f2e14f",
   "metadata": {},
   "outputs": [],
   "source": [
    "from openpyxl import Workbook\n",
    "book = Workbook()\n",
    "sheet = book.active\n",
    "sheet.title = 'report'\n",
    "sheet.append([\"DATE\",\"TIME\",\"MARKET\",\"ACCOUNT\",\"EXECUTOR\",\"STRATEGY\",\"EVENT\",\"RUNNERS\",\"\",\"\",\"NOTE\",\"S1 A\",\"S1 B\",\"S2 A\",\"S2 B\",\"S3 A\",\"S3 B\",\"S4 A\",\"S4 B\",\"S5 A\",\"S5 B\",\"GAME A\",\"GAME B\",\"SER\",\"ID\",\"TIME\",\"TYPE\",\"RUN\",\"BET\",\"ODDS\",\"STAKE\",\"TOTAL RISK\",\"COMM\",\"NET PL\"])\n",
    "sheet.append([\"\",\"\",\"\",\"\",\"\",\"\",\"\",\"A\",\"B\",\"WINNER\"])"
   ]
  },
  {
   "cell_type": "code",
   "execution_count": 200,
   "id": "26696efb-3a50-4911-a2f5-bff67b552403",
   "metadata": {},
   "outputs": [],
   "source": [
    "book.save(\"report.xlsx\")"
   ]
  },
  {
   "cell_type": "code",
   "execution_count": 183,
   "id": "d206e491-db21-4d13-9514-6f8ed00b23c0",
   "metadata": {},
   "outputs": [
    {
     "data": {
      "text/plain": [
       "'397.6'"
      ]
     },
     "execution_count": 183,
     "metadata": {},
     "output_type": "execute_result"
    }
   ],
   "source": [
    "def getField(field,content,index=0):\n",
    "    try:\n",
    "        try:\n",
    "            line = content.split(f'{field}:',index+1)\n",
    "            value = line[index+1].split(';')[0].split(' - ')[0].split('\\n')[0].strip()\n",
    "            if 'marketName' == field:\n",
    "                dateString = line[index].split('\\n')[-1].split(' ')[0]\n",
    "                return value,dateString\n",
    "            else:\n",
    "                return value\n",
    "        except:\n",
    "            return content.split(f'{field} = ',index+1)[index+1].split('\\n')[0].strip()\n",
    "    except:\n",
    "        return None\n",
    "getField('volume',content)"
   ]
  },
  {
   "cell_type": "code",
   "execution_count": 28,
   "id": "c9ca2afe-5ec9-43e5-b639-af3b7fced5ad",
   "metadata": {},
   "outputs": [
    {
     "data": {
      "text/plain": [
       "['1', '2', '2_3_4']"
      ]
     },
     "execution_count": 28,
     "metadata": {},
     "output_type": "execute_result"
    }
   ],
   "source": []
  }
 ],
 "metadata": {
  "kernelspec": {
   "display_name": "Python 3 (ipykernel)",
   "language": "python",
   "name": "python3"
  },
  "language_info": {
   "codemirror_mode": {
    "name": "ipython",
    "version": 3
   },
   "file_extension": ".py",
   "mimetype": "text/x-python",
   "name": "python",
   "nbconvert_exporter": "python",
   "pygments_lexer": "ipython3",
   "version": "3.9.7"
  }
 },
 "nbformat": 4,
 "nbformat_minor": 5
}
